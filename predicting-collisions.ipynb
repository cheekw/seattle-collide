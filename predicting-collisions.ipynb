{
 "cells": [
  {
   "cell_type": "markdown",
   "metadata": {},
   "source": [
    "# Predicting Seattle Collisions"
   ]
  },
  {
   "cell_type": "code",
   "execution_count": 3,
   "metadata": {},
   "outputs": [],
   "source": [
    "# importing libraries\n",
    "import matplotlib\n",
    "import numpy as np\n",
    "import pandas as pd\n",
    "import seaborn as sns\n",
    "import matplotlib.pyplot as plt\n",
    "\n",
    "%matplotlib inline"
   ]
  },
  {
   "cell_type": "code",
   "execution_count": 4,
   "metadata": {},
   "outputs": [],
   "source": [
    "# loading the data set\n",
    "filepath = 'data/'\n",
    "df = pd.read_csv(filepath + 'Collisions.csv')"
   ]
  },
  {
   "cell_type": "code",
   "execution_count": 5,
   "metadata": {},
   "outputs": [
    {
     "data": {
      "text/plain": [
       "(203190, 40)"
      ]
     },
     "execution_count": 5,
     "metadata": {},
     "output_type": "execute_result"
    }
   ],
   "source": [
    "# shape\n",
    "df.shape"
   ]
  },
  {
   "cell_type": "code",
   "execution_count": 6,
   "metadata": {},
   "outputs": [
    {
     "data": {
      "text/plain": [
       "X                    5216\n",
       "Y                    5216\n",
       "OBJECTID                0\n",
       "INCKEY                  0\n",
       "COLDETKEY               0\n",
       "REPORTNO                0\n",
       "STATUS                  0\n",
       "ADDRTYPE             3588\n",
       "INTKEY             137759\n",
       "LOCATION             4392\n",
       "EXCEPTRSNCODE      120404\n",
       "EXCEPTRSNDESC      193083\n",
       "SEVERITYCODE            1\n",
       "SEVERITYDESC            0\n",
       "COLLISIONTYPE       23113\n",
       "PERSONCOUNT             0\n",
       "PEDCOUNT                0\n",
       "PEDCYLCOUNT             0\n",
       "VEHCOUNT                0\n",
       "INJURIES                0\n",
       "SERIOUSINJURIES         0\n",
       "FATALITIES              0\n",
       "INCDATE                 0\n",
       "INCDTTM                 0\n",
       "JUNCTIONTYPE        10858\n",
       "SDOT_COLCODE            1\n",
       "SDOT_COLDESC            1\n",
       "INATTENTIONIND     175560\n",
       "UNDERINFL           23011\n",
       "WEATHER             23179\n",
       "ROADCOND            23126\n",
       "LIGHTCOND           23271\n",
       "PEDROWNOTGRNT      198362\n",
       "SDOTCOLNUM          75985\n",
       "SPEEDING           194002\n",
       "ST_COLCODE           9493\n",
       "ST_COLDESC          23113\n",
       "SEGLANEKEY              0\n",
       "CROSSWALKKEY            0\n",
       "HITPARKEDCAR            0\n",
       "dtype: int64"
      ]
     },
     "execution_count": 6,
     "metadata": {},
     "output_type": "execute_result"
    }
   ],
   "source": [
    "# number of null values\n",
    "df.isna().sum()"
   ]
  },
  {
   "cell_type": "code",
   "execution_count": 7,
   "metadata": {},
   "outputs": [
    {
     "data": {
      "text/plain": [
       "X                  float64\n",
       "Y                  float64\n",
       "OBJECTID             int64\n",
       "INCKEY               int64\n",
       "COLDETKEY            int64\n",
       "REPORTNO            object\n",
       "STATUS              object\n",
       "ADDRTYPE            object\n",
       "INTKEY             float64\n",
       "LOCATION            object\n",
       "EXCEPTRSNCODE       object\n",
       "EXCEPTRSNDESC       object\n",
       "SEVERITYCODE        object\n",
       "SEVERITYDESC        object\n",
       "COLLISIONTYPE       object\n",
       "PERSONCOUNT          int64\n",
       "PEDCOUNT             int64\n",
       "PEDCYLCOUNT          int64\n",
       "VEHCOUNT             int64\n",
       "INJURIES             int64\n",
       "SERIOUSINJURIES      int64\n",
       "FATALITIES           int64\n",
       "INCDATE             object\n",
       "INCDTTM             object\n",
       "JUNCTIONTYPE        object\n",
       "SDOT_COLCODE       float64\n",
       "SDOT_COLDESC        object\n",
       "INATTENTIONIND      object\n",
       "UNDERINFL           object\n",
       "WEATHER             object\n",
       "ROADCOND            object\n",
       "LIGHTCOND           object\n",
       "PEDROWNOTGRNT       object\n",
       "SDOTCOLNUM         float64\n",
       "SPEEDING            object\n",
       "ST_COLCODE          object\n",
       "ST_COLDESC          object\n",
       "SEGLANEKEY           int64\n",
       "CROSSWALKKEY         int64\n",
       "HITPARKEDCAR        object\n",
       "dtype: object"
      ]
     },
     "execution_count": 7,
     "metadata": {},
     "output_type": "execute_result"
    }
   ],
   "source": [
    "df.dtypes"
   ]
  },
  {
   "cell_type": "code",
   "execution_count": 6,
   "metadata": {},
   "outputs": [
    {
     "data": {
      "text/plain": [
       "14.865753424657534"
      ]
     },
     "execution_count": 6,
     "metadata": {},
     "output_type": "execute_result"
    }
   ],
   "source": [
    "df_counts = df[['OBJECTID', 'INCDATE']].groupby('INCDATE').count()\n",
    "len(df_counts) / 365"
   ]
  },
  {
   "cell_type": "code",
   "execution_count": 7,
   "metadata": {},
   "outputs": [
    {
     "data": {
      "text/html": [
       "<div>\n",
       "<style scoped>\n",
       "    .dataframe tbody tr th:only-of-type {\n",
       "        vertical-align: middle;\n",
       "    }\n",
       "\n",
       "    .dataframe tbody tr th {\n",
       "        vertical-align: top;\n",
       "    }\n",
       "\n",
       "    .dataframe thead th {\n",
       "        text-align: right;\n",
       "    }\n",
       "</style>\n",
       "<table border=\"1\" class=\"dataframe\">\n",
       "  <thead>\n",
       "    <tr style=\"text-align: right;\">\n",
       "      <th></th>\n",
       "      <th>OBJECTID</th>\n",
       "    </tr>\n",
       "  </thead>\n",
       "  <tbody>\n",
       "    <tr>\n",
       "      <th>count</th>\n",
       "      <td>5426.000000</td>\n",
       "    </tr>\n",
       "    <tr>\n",
       "      <th>mean</th>\n",
       "      <td>37.447475</td>\n",
       "    </tr>\n",
       "    <tr>\n",
       "      <th>std</th>\n",
       "      <td>10.613039</td>\n",
       "    </tr>\n",
       "    <tr>\n",
       "      <th>min</th>\n",
       "      <td>1.000000</td>\n",
       "    </tr>\n",
       "    <tr>\n",
       "      <th>25%</th>\n",
       "      <td>30.000000</td>\n",
       "    </tr>\n",
       "    <tr>\n",
       "      <th>50%</th>\n",
       "      <td>37.000000</td>\n",
       "    </tr>\n",
       "    <tr>\n",
       "      <th>75%</th>\n",
       "      <td>44.000000</td>\n",
       "    </tr>\n",
       "    <tr>\n",
       "      <th>max</th>\n",
       "      <td>103.000000</td>\n",
       "    </tr>\n",
       "  </tbody>\n",
       "</table>\n",
       "</div>"
      ],
      "text/plain": [
       "          OBJECTID\n",
       "count  5426.000000\n",
       "mean     37.447475\n",
       "std      10.613039\n",
       "min       1.000000\n",
       "25%      30.000000\n",
       "50%      37.000000\n",
       "75%      44.000000\n",
       "max     103.000000"
      ]
     },
     "execution_count": 7,
     "metadata": {},
     "output_type": "execute_result"
    }
   ],
   "source": [
    "df_counts.describe()"
   ]
  },
  {
   "cell_type": "code",
   "execution_count": 9,
   "metadata": {},
   "outputs": [
    {
     "name": "stderr",
     "output_type": "stream",
     "text": [
      "/Library/Frameworks/Python.framework/Versions/3.7/lib/python3.7/site-packages/scipy/stats/stats.py:1713: FutureWarning: Using a non-tuple sequence for multidimensional indexing is deprecated; use `arr[tuple(seq)]` instead of `arr[seq]`. In the future this will be interpreted as an array index, `arr[np.array(seq)]`, which will result either in an error or a different result.\n",
      "  return np.add.reduce(sorted[indexer] * weights, axis=axis) / sumval\n"
     ]
    },
    {
     "data": {
      "text/plain": [
       "<matplotlib.axes._subplots.AxesSubplot at 0x1188cffd0>"
      ]
     },
     "execution_count": 9,
     "metadata": {},
     "output_type": "execute_result"
    },
    {
     "data": {
      "image/png": "[encoded data removed]",
      "text/plain": [
       "<Figure size 1080x720 with 1 Axes>"
      ]
     },
     "metadata": {
      "needs_background": "light"
     },
     "output_type": "display_data"
    }
   ],
   "source": [
    "# distribution plot\n",
    "plt.figure(figsize=(15,10))\n",
    "plt.ylabel('Count', fontsize=15)\n",
    "plt.xlabel('Collisions per day', fontsize=15)\n",
    "plt.title('Distribution of Collisions per day', fontsize=15)\n",
    "sns.distplot(df_counts, kde=False)"
   ]
  },
  {
   "cell_type": "code",
   "execution_count": 36,
   "metadata": {},
   "outputs": [
    {
     "data": {
      "text/plain": [
       "array(['X', 'Y', 'OBJECTID', 'INCKEY', 'COLDETKEY', 'REPORTNO', 'STATUS',\n",
       "       'ADDRTYPE', 'INTKEY', 'LOCATION', 'EXCEPTRSNCODE', 'EXCEPTRSNDESC',\n",
       "       'SEVERITYCODE', 'SEVERITYDESC', 'COLLISIONTYPE', 'PERSONCOUNT',\n",
       "       'PEDCOUNT', 'PEDCYLCOUNT', 'VEHCOUNT', 'INJURIES',\n",
       "       'SERIOUSINJURIES', 'FATALITIES', 'INCDATE', 'INCDTTM',\n",
       "       'JUNCTIONTYPE', 'SDOT_COLCODE', 'SDOT_COLDESC', 'INATTENTIONIND',\n",
       "       'UNDERINFL', 'WEATHER', 'ROADCOND', 'LIGHTCOND', 'PEDROWNOTGRNT',\n",
       "       'SDOTCOLNUM', 'SPEEDING', 'ST_COLCODE', 'ST_COLDESC', 'SEGLANEKEY',\n",
       "       'CROSSWALKKEY', 'HITPARKEDCAR'], dtype=object)"
      ]
     },
     "execution_count": 36,
     "metadata": {},
     "output_type": "execute_result"
    }
   ],
   "source": [
    "df.columns.values"
   ]
  },
  {
   "cell_type": "code",
   "execution_count": 52,
   "metadata": {},
   "outputs": [],
   "source": [
    "# distribution of numeric data\n",
    "numeric_columns = ['PERSONCOUNT',\n",
    "                   'PEDCOUNT',\n",
    "                   'PEDCYLCOUNT',\n",
    "                   'VEHCOUNT', \n",
    "                   'INJURIES',\n",
    "                   'SERIOUSINJURIES', \n",
    "                   'FATALITIES']\n",
    "categorical_columns = ['STATUS',\n",
    "                       'ADDRTYPE',\n",
    "                       'COLLISIONTYPE',\n",
    "                       'JUNCTIONTYPE',\n",
    "                       'INATTENTIONIND',\n",
    "                       'UNDERINFL', \n",
    "                       'WEATHER', \n",
    "                       'ROADCOND', \n",
    "                       'LIGHTCOND', \n",
    "                       'PEDROWNOTGRNT', \n",
    "                       'SPEEDING',\n",
    "                       'HITPARKEDCAR']"
   ]
  },
  {
   "cell_type": "code",
   "execution_count": 50,
   "metadata": {},
   "outputs": [
    {
     "data": {
      "text/plain": [
       "array([[<matplotlib.axes._subplots.AxesSubplot object at 0x1257deb38>,\n",
       "        <matplotlib.axes._subplots.AxesSubplot object at 0x125586b38>,\n",
       "        <matplotlib.axes._subplots.AxesSubplot object at 0x125beec88>],\n",
       "       [<matplotlib.axes._subplots.AxesSubplot object at 0x125c20240>,\n",
       "        <matplotlib.axes._subplots.AxesSubplot object at 0x125c467b8>,\n",
       "        <matplotlib.axes._subplots.AxesSubplot object at 0x126749d30>],\n",
       "       [<matplotlib.axes._subplots.AxesSubplot object at 0x1267782e8>,\n",
       "        <matplotlib.axes._subplots.AxesSubplot object at 0x1267a07b8>,\n",
       "        <matplotlib.axes._subplots.AxesSubplot object at 0x1267a07f0>]],\n",
       "      dtype=object)"
      ]
     },
     "execution_count": 50,
     "metadata": {},
     "output_type": "execute_result"
    },
    {
     "data": {
      "image/png": "[encoded data removed]",
      "text/plain": [
       "<Figure size 1080x1080 with 9 Axes>"
      ]
     },
     "metadata": {
      "needs_background": "light"
     },
     "output_type": "display_data"
    }
   ],
   "source": [
    "# histogram of numeric columns\n",
    "df[numeric_columns].hist(layout=(3,3), figsize=(15,15), bins=15)"
   ]
  },
  {
   "cell_type": "code",
   "execution_count": 53,
   "metadata": {},
   "outputs": [
    {
     "name": "stdout",
     "output_type": "stream",
     "text": [
      "Matched      180232\n",
      "Unmatched     22958\n",
      "Name: STATUS, dtype: int64 \n",
      "\n",
      "Block           133367\n",
      "Intersection     65431\n",
      "Alley              804\n",
      "Name: ADDRTYPE, dtype: int64 \n",
      "\n",
      "Parked Car    45574\n",
      "Angles        32487\n",
      "Rear Ended    32106\n",
      "Other         22770\n",
      "Sideswipe     17243\n",
      "Left Turn     12996\n",
      "Pedestrian     7008\n",
      "Cycles         5112\n",
      "Right Turn     2790\n",
      "Head On        1991\n",
      "Name: COLLISIONTYPE, dtype: int64 \n",
      "\n",
      "Mid-Block (not related to intersection)              92348\n",
      "At Intersection (intersection related)               62859\n",
      "Mid-Block (but intersection related)                 23641\n",
      "Driveway Junction                                    10915\n",
      "At Intersection (but not related to intersection)     2362\n",
      "Ramp Junction                                          188\n",
      "Unknown                                                 19\n",
      "Name: JUNCTIONTYPE, dtype: int64 \n",
      "\n",
      "Y    27630\n",
      "Name: INATTENTIONIND, dtype: int64 \n",
      "\n",
      "N    89589\n",
      "0    81693\n",
      "Y     4666\n",
      "1     4231\n",
      "Name: UNDERINFL, dtype: int64 \n",
      "\n",
      "Clear or Partly Cloudy          105364\n",
      "Raining                          31418\n",
      "Overcast                         26163\n",
      "Unknown                          14773\n",
      "Snowing                            818\n",
      "Other                              778\n",
      "Fog/Smog/Smoke                     527\n",
      "Sleet/Hail/Freezing Rain           109\n",
      "Blowing Sand or Dirt or Snow        40\n",
      "Severe Crosswind                    21\n",
      "Name: WEATHER, dtype: int64 \n",
      "\n",
      "Dry               118232\n",
      "Wet                44721\n",
      "Unknown            14689\n",
      "Ice                 1140\n",
      "Snow/Slush           923\n",
      "Other                120\n",
      "Standing Water       109\n",
      "Sand/Mud/Dirt         72\n",
      "Oil                   58\n",
      "Name: ROADCOND, dtype: int64 \n",
      "\n",
      "Daylight                    110014\n",
      "Dark - Street Lights On      46008\n",
      "Unknown                      13138\n",
      "Dusk                          5594\n",
      "Dawn                          2356\n",
      "Dark - No Street Lights       1440\n",
      "Dark - Street Lights Off      1156\n",
      "Other                          213\n",
      "Name: LIGHTCOND, dtype: int64 \n",
      "\n",
      "Y    4828\n",
      "Name: PEDROWNOTGRNT, dtype: int64 \n",
      "\n",
      "Y    9188\n",
      "Name: SPEEDING, dtype: int64 \n",
      "\n",
      "N    195229\n",
      "Y      7961\n",
      "Name: HITPARKEDCAR, dtype: int64 \n",
      "\n"
     ]
    }
   ],
   "source": [
    "# counts of categorical columns\n",
    "for column in categorical_columns:\n",
    "    print(df[column].value_counts(), '\\n')"
   ]
  },
  {
   "cell_type": "code",
   "execution_count": null,
   "metadata": {},
   "outputs": [],
   "source": []
  }
 ],
 "metadata": {
  "kernelspec": {
   "display_name": "Python 3",
   "language": "python",
   "name": "python3"
  },
  "language_info": {
   "codemirror_mode": {
    "name": "ipython",
    "version": 3
   },
   "file_extension": ".py",
   "mimetype": "text/x-python",
   "name": "python",
   "nbconvert_exporter": "python",
   "pygments_lexer": "ipython3",
   "version": "3.7.1"
  }
 },
 "nbformat": 4,
 "nbformat_minor": 2
}
